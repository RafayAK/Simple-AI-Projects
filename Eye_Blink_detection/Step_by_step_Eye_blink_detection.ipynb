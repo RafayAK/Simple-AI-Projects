{
 "cells": [
  {
   "cell_type": "markdown",
   "metadata": {},
   "source": [
    "# Eye Blink Detection using Facial Landmarks\n",
    "\n",
    "To build our blink detector, we’ll be computing a metric called the **eye aspect ratio (EAR)**, introduced by _Soukupová and Čech in their 2016 paper, Real-Time Eye Blink Detection Using Facial Landmarks._\n",
    "\n",
    "\n",
    "Unlike traditional image processing methods for computing blinks which typically involve some combination of:\n",
    "\n",
    "1. Eye localization.\n",
    "2. Thresholding to find the whites of the eyes.\n",
    "3. Determining if the “white” region of the eyes disappears for a period of time (indicating a blink).\n",
    "\n",
    "The eye aspect ratio is instead a much more elegant solution that involves a very simple calculation based on the ratio of distances between facial landmarks of the eyes.\n",
    "\n",
    "This method for eye blink detection is fast, efficient, and easy to implement.\n",
    "\n"
   ]
  },
  {
   "cell_type": "markdown",
   "metadata": {},
   "source": [
    "## Understanding the “eye aspect ratio” (EAR)\n",
    "\n",
    "We can apply facial landmarks detection to localize important regions of the face, including eyes, eyebrows, nose, ears, and mouth.\n",
    "\n",
    "\n",
    "Each eye is represented by _6 (x,y)-coordinates_, strarting at the left-corner of the eye, and then working clockwise.\n",
    "\n",
    "<img src=\"https://www.pyimagesearch.com/wp-content/uploads/2017/04/blink_detection_6_landmarks.jpg\">\n",
    "\n",
    "Based on this image, we should take away on key point:\n",
    "\n",
    "__There is a relation between the width and the height of these coordinates.__\n",
    "\n",
    "$$EAR = \\frac{\\left \\| p_2 - p_6 \\right \\| + \\left \\| p_3 - p_5 \\right \\|}{2\\left \\| p_1 - p_4 \\right \\|} $$\n",
    "\n",
    "Where p1, …, p6 are 2D facial landmark locations.\n",
    "\n",
    "The __numerator of this equation computes the distance between the vertical eye landmarks__ while the __denominator computes the distance between the horizontal eye landmarks,__ weighting the denominator appropriately since there is only one set of horizontal points but two sets of vertical points. \n",
    "\n",
    "\n",
    "Why is this equation so interesting?\n",
    "\n",
    "Well, the eye aspect ratio is approximately constant while the eye is open, but will rapidly fall to zero when a blink is taking place.\n",
    "\n",
    "Using this simple equation, we can avoid image processing techniques and simply rely on the ratio of eye landmark distances to determine if a person is blinking.\n",
    "\n",
    "To make this more clear, consider the following figure from Soukupová and Čech:\n",
    "\n",
    "<img src=\"https://www.pyimagesearch.com/wp-content/uploads/2017/04/blink_detection_plot.jpg\">\n",
    "\n",
    "On the top-left we have an eye that is fully open — the eye aspect ratio here would be large(r) and relatively constant over time.\n",
    "\n",
    "However, once the person blinks (top-right) the eye aspect ratio decreases dramatically, approaching zero.\n",
    "\n",
    "The bottom figure plots a graph of the eye aspect ratio over time for a video clip. As we can see, the eye aspect ratio is constant, then rapidly drops close to zero, then increases again, indicating a single blink has taken place."
   ]
  },
  {
   "cell_type": "markdown",
   "metadata": {},
   "source": [
    "## Detecting blinks with facial landmarks and OpenCV"
   ]
  },
  {
   "cell_type": "code",
   "execution_count": 45,
   "metadata": {},
   "outputs": [],
   "source": [
    "# import the necessary packages\n",
    "from scipy.spatial import distance as dist\n",
    "from imutils.video import FileVideoStream\n",
    "from imutils.video import VideoStream\n",
    "from imutils import face_utils\n",
    "import numpy as np\n",
    "import imutils\n",
    "import dlib\n",
    "import cv2\n",
    "import time\n",
    "import matplotlib.pyplot as plt\n",
    "\n",
    "%matplotlib inline"
   ]
  },
  {
   "cell_type": "code",
   "execution_count": 46,
   "metadata": {},
   "outputs": [],
   "source": [
    "path_video = \"blink8.mp4\"\n",
    "# This is the path to the facial landmark perdictor \n",
    "path_shape_predictor = \"shape_predictor_68_face_landmarks.dat\""
   ]
  },
  {
   "cell_type": "markdown",
   "metadata": {},
   "source": [
    "Define `eye_aspect_ratio` function:"
   ]
  },
  {
   "cell_type": "code",
   "execution_count": 47,
   "metadata": {},
   "outputs": [],
   "source": [
    "def eye_aspect_ratio(eye):\n",
    "    # compute the euclidean distance between two sets of \n",
    "    # vertical eye landmarks (x, y)-coordinates\n",
    "    A = dist.euclidean(eye[1], eye[5])\n",
    "    B = dist.euclidean(eye[2], eye[4])\n",
    "    \n",
    "    # compute the euclidean distance between horizontal \n",
    "    # eye landmark (x, y)-coordinates\n",
    "    C = dist.euclidean(eye[0], eye[3])\n",
    "    \n",
    "    # compute th eye aspect ratio\n",
    "    ear = (A + B)/ (2 * C)\n",
    "    \n",
    "    # return the eye aspect ratio\n",
    "    return ear"
   ]
  },
  {
   "cell_type": "markdown",
   "metadata": {},
   "source": [
    "This function accepts a single required parameter, the (x, y)-coordinates of the facial landmarks for a given `eye`.\n",
    "\n",
    "We now need to set two important constants that you may need to tune for your own implementation, along with initialize two other important variables, so be sure to pay attention to this explantation:"
   ]
  },
  {
   "cell_type": "code",
   "execution_count": 48,
   "metadata": {},
   "outputs": [],
   "source": [
    "# define two constants, one for the EAR to indicate \n",
    "# blink and the second constant for the number of consecutive \n",
    "# frames the eye must be below the threshold to register as a 'blink'\n",
    "\n",
    "EYE_AR_THRESH = 0.2\n",
    "EYE_AR_CONSEC_FRAMES = 3\n",
    "\n",
    "# initialize the frame counters and the total number of blinks\n",
    "COUNTER = 0\n",
    "TOTAL = 0"
   ]
  },
  {
   "cell_type": "markdown",
   "metadata": {},
   "source": [
    "If the eye aspect ratio falls below a certain threshold and then rises above the threshold, then we’ll register a “blink” — the `EYE_AR_THRESH`  is this threshold value. We default it to a value of `0.3`  as this is what has worked best for my applications, but you may need to tune it for your own application.\n",
    "\n",
    "We then have an important constant, `EYE_AR_CONSEC_FRAME`  — this value is set to 3  to indicate that three successive frames with an eye aspect ratio less than `EYE_AR_THRESH`  must happen in order for a blink to be registered.\n",
    "\n",
    "__Depending on the frame processing throughput rate of your pipeline, you may need to raise or lower this number for your own implementation.__\n",
    "\n",
    "Initialize two counters. `COUNTER`  is the _total number of successive frames that have an eye aspect ratio less than_ `EYE_AR_THRESH`,  while `TOTAL`  is the _total number of blinks that have taken place while the script has been running._\n",
    "\n",
    "Now that our imports, command line arguments, and constants have been taken care of, we can initialize dlib’s face detector and facial landmark detector:"
   ]
  },
  {
   "cell_type": "code",
   "execution_count": 49,
   "metadata": {},
   "outputs": [
    {
     "name": "stdout",
     "output_type": "stream",
     "text": [
      "[INFO] loading facial landmark predictor...\n"
     ]
    }
   ],
   "source": [
    "# initialize dlib's face detector (HOG-based) and then create \n",
    "# the facial landmark predictor\n",
    "print(\"[INFO] loading facial landmark predictor...\")\n",
    "detector = dlib.get_frontal_face_detector()\n",
    "predictor = dlib.shape_predictor(path_shape_predictor)"
   ]
  },
  {
   "cell_type": "markdown",
   "metadata": {},
   "source": [
    "Get the facial landmarks of the left and right eye\n",
    "\n",
    "<img src = \"https://www.pyimagesearch.com/wp-content/uploads/2017/04/facial_landmarks_68markup-768x619.jpg\">"
   ]
  },
  {
   "cell_type": "code",
   "execution_count": 50,
   "metadata": {},
   "outputs": [],
   "source": [
    "# grab the indexes of the facial landmarks for the left and the right\n",
    "# eye, respectively\n",
    "\n",
    "(lStart, lEnd) = face_utils.FACIAL_LANDMARKS_68_IDXS['left_eye'] \n",
    "(rStart, rEnd) = face_utils.FACIAL_LANDMARKS_68_IDXS['right_eye']"
   ]
  },
  {
   "cell_type": "markdown",
   "metadata": {},
   "source": [
    "Start the video stream"
   ]
  },
  {
   "cell_type": "code",
   "execution_count": 59,
   "metadata": {},
   "outputs": [
    {
     "name": "stdout",
     "output_type": "stream",
     "text": [
      "[INFO] starting video\n"
     ]
    }
   ],
   "source": [
    "print(\"[INFO] starting video\")\n",
    "vs = FileVideoStream(path_video).start()\n",
    "\n",
    "fileStream =True\n",
    "\n",
    "time.sleep(1.0) # sleep to let video buffer a bit"
   ]
  },
  {
   "cell_type": "markdown",
   "metadata": {},
   "source": [
    "Let's move on the main loop"
   ]
  },
  {
   "cell_type": "code",
   "execution_count": 60,
   "metadata": {},
   "outputs": [],
   "source": [
    "# import this to display images like a video in notebook\n",
    "from IPython.display import display , Image, clear_output "
   ]
  },
  {
   "cell_type": "code",
   "execution_count": 61,
   "metadata": {},
   "outputs": [
    {
     "data": {
      "image/jpeg": "[encoded data removed]",
      "text/plain": [
       "<IPython.core.display.Image object>"
      ]
     },
     "metadata": {},
     "output_type": "display_data"
    }
   ],
   "source": [
    "# loop over frames from the video stream\n",
    "while True:\n",
    "    # if this is a file video stream, then we need to check if there are\n",
    "    # any more frames left in the buffer to process\n",
    "    if fileStream and not vs.more():\n",
    "        break\n",
    "        \n",
    "    # grab the frame from the threaded videofile stream, resize it and\n",
    "    # convert it to grayscale\n",
    "    frame = vs.read()\n",
    "    if frame is None:\n",
    "        break\n",
    "    \n",
    "    frame = imutils.resize(frame, width=450)\n",
    "    gray = cv2.cvtColor(frame, cv2.COLOR_BGR2GRAY)\n",
    "            \n",
    "    # detect the faces in the grayscale frame\n",
    "    rects = detector(gray, 0)\n",
    "    \n",
    "    # loop over faces\n",
    "    for rect in rects:\n",
    "        # determine the landmarks and convert them to numpy\n",
    "        shape = predictor(gray, rect)\n",
    "        shape = face_utils.shape_to_np(shape)\n",
    "        \n",
    "        # extract left and right eye coordinates\n",
    "        leftEye = shape[lStart: lEnd]\n",
    "        rightEye = shape[rStart: rEnd]\n",
    "        leftEAR = eye_aspect_ratio(leftEye)\n",
    "        rightEAR = eye_aspect_ratio(rightEye)\n",
    "        \n",
    "        # average the eye aspect ratio together for both eyes\n",
    "        ear = (leftEAR +  rightEAR)/ 2\n",
    "        \n",
    "        # compute the convex hull for the left and right eye, then\n",
    "        # visualize each of the eyes\n",
    "        leftEyeHull = cv2.convexHull(leftEye)\n",
    "        rightEyeHull = cv2.convexHull(rightEye)\n",
    "        cv2.drawContours(frame, [leftEyeHull], -1, (0, 255, 0), 1)\n",
    "        cv2.drawContours(frame, [rightEyeHull], -1, (0, 255, 0), 1)\n",
    "        \n",
    "        # check to see if the eye aspect ratio is below our defined\n",
    "        # blink thresh, and if so, incrementing counter\n",
    "        if ear < EYE_AR_THRESH:\n",
    "            COUNTER += 1\n",
    "            \n",
    "        # otherwise, the EAR is not below thresh\n",
    "        else:\n",
    "            # if the eyes were closed for a sufficent number of frames\n",
    "            # then increment the total number of blinks\n",
    "            if COUNTER >= EYE_AR_CONSEC_FRAMES:\n",
    "                TOTAL += 1\n",
    "            \n",
    "            # reset frame counter\n",
    "            COUNTER = 0\n",
    "            \n",
    "        # finall write on the frame the number of blinks along with\n",
    "        # the computed eye aspect ratio for the frame\n",
    "        cv2.putText(frame, \"Blinks: {}\".format(TOTAL), (10, 30), \n",
    "                    cv2.FONT_HERSHEY_SIMPLEX, 0.7, (0, 0, 255), 2)\n",
    "        cv2.putText(frame, \"EAR: {}\".format(ear), (300, 30), \n",
    "                    cv2.FONT_HERSHEY_SIMPLEX, 0.7, (0, 0, 255), 2)\n",
    "    \n",
    "    # for jupyter first we need to save the image then dsplay it \n",
    "    # for a video like effect\n",
    "    cv2.imwrite('pic.jpg', frame) # first we save it\n",
    "    display(Image(\"pic.jpg\"))\n",
    "\n",
    "    clear_output(wait=True)\n",
    "\n",
    "# Reset total \n",
    "TOTAL=0"
   ]
  },
  {
   "cell_type": "markdown",
   "metadata": {},
   "source": [
    "__Following the suggestion of Soukupová and Čech, we average the two eye aspect ratios together to obtain a better blink estimate (making the assumption that a person blinks both eyes at the same time, of course).__\n",
    "\n",
    "**Line 41** makes a check to see if the eye aspect ratio is below our blink threshold — if it is, we increment the number of consecutive frames that indicate a blink is taking place (**Line 42**).\n",
    "\n",
    "Otherwise, **Line 44** handles the case where the eye aspect ratio is not below the blink threshold.\n",
    "\n",
    "In this case, we make another check on **Line 48* to see if a sufficient number of consecutive frames contained an eye blink ratio below our pre-defined threshold.\n",
    "\n",
    "If the check passes, we increment the TOTAL  number of blinks (**Line 49**).\n",
    "\n",
    "We then reset the number of consecutive blinks COUNTER  (**Line 52**)."
   ]
  },
  {
   "cell_type": "markdown",
   "metadata": {},
   "source": [
    "To make our blink detector more robust to these challenges, Soukupová and Čech recommend:\n",
    "\n",
    "- Computing the eye aspect ratio for the N-th frame, along with the eye aspect ratios for N – 6 and N + 6 frames, then concatenating these eye aspect ratios to form a 13 dimensional feature vector.\n",
    "- Training a Support Vector Machine (SVM) on these feature vectors.\n",
    "\n",
    "Soukupová and Čech report that the combination of the temporal-based feature vector and SVM classifier helps reduce false-positive blink detections and improves the overall accuracy of the blink detector.\n",
    "\n",
    "\n",
    "## Using dlib's cnn based face detector "
   ]
  },
  {
   "cell_type": "code",
   "execution_count": null,
   "metadata": {},
   "outputs": [],
   "source": [
    "import numpy as np\n",
    "import dlib\n",
    "import matplotlib.pyplot as plt\n",
    "import cv2\n",
    "from imutils import face_utils\n",
    "import imutils\n",
    "%matplotlib inline"
   ]
  },
  {
   "cell_type": "code",
   "execution_count": null,
   "metadata": {},
   "outputs": [],
   "source": [
    "dlib.__version__"
   ]
  },
  {
   "cell_type": "code",
   "execution_count": null,
   "metadata": {},
   "outputs": [],
   "source": [
    "path_image = \"myimg4.jpg\"\n",
    "\n",
    "# path_image = \"the_expendables.jpg\"\n",
    "cnn_model_path = \"..\\\\DNN_MODELS\\\\mmod_human_face_detector.dat\"\n",
    "\n",
    "# # This is the path to the facial landmark perdictor \n",
    "path_shape_predictor = \"shape_predictor_68_face_landmarks.dat\"\n",
    "\n",
    "cnn_face_detector = dlib.cnn_face_detection_model_v1(cnn_model_path)\n",
    "predictor = dlib.shape_predictor(path_shape_predictor)"
   ]
  },
  {
   "cell_type": "markdown",
   "metadata": {},
   "source": [
    "#### NOTE: dlib.load_rgb_image() does not take into account the EXIF orientation metadata so, some images will be in the wrong orientaion!\n",
    "\n",
    "**so either read EXIF data and correct orientation on offending image or use _OpenCV's imread()_ method as it takes into account the orientaion metadata.**"
   ]
  },
  {
   "cell_type": "code",
   "execution_count": null,
   "metadata": {},
   "outputs": [],
   "source": [
    "# Does not take into account the the orientation metadata\n",
    "img = dlib.load_rgb_image(path_image)\n",
    "print(img.shape)\n",
    "plt.imshow(img)\n",
    "plt.show()"
   ]
  },
  {
   "cell_type": "markdown",
   "metadata": {},
   "source": [
    "So, using the OpenCV imread, instead"
   ]
  },
  {
   "cell_type": "code",
   "execution_count": null,
   "metadata": {},
   "outputs": [],
   "source": [
    "img = cv2.imread(path_image)\n",
    "img = img[...,::-1] # BGR to RGB\n",
    "plt.imshow(img)\n",
    "plt.show()"
   ]
  },
  {
   "cell_type": "code",
   "execution_count": null,
   "metadata": {},
   "outputs": [],
   "source": [
    "# resize image to a manageble size to apss through CNN\n",
    "\n",
    "og_h, og_w = img.shape[:2] # resize image height width \n",
    "img_copy = imutils.resize(img, width=500)\n",
    "\n",
    "h_ratio = og_h / img_copy.shape[0]\n",
    "w_ratio = og_w / img_copy.shape[1]\n",
    "\n",
    "print(img_copy.shape)\n",
    "\n",
    "plt.imshow(img_copy)\n",
    "plt.show()"
   ]
  },
  {
   "cell_type": "code",
   "execution_count": null,
   "metadata": {},
   "outputs": [],
   "source": [
    "# The 1 in the second argument indicates that we should upsample the image\n",
    "# 1 time.  This will make everything bigger and allow us to detect more\n",
    "# faces.\n",
    "detections = cnn_face_detector(img_copy, 1)"
   ]
  },
  {
   "cell_type": "markdown",
   "metadata": {},
   "source": [
    "This detector returns a mmod_rectangles object. This object contains a list of __mmod_rectangle__ objects.\n",
    "These objects can be accessed by simply iterating over the mmod_rectangles object\n",
    "The mmod_rectangle object has two member variables: \n",
    "1. a dlib.rectangle object, and\n",
    "2. a confidence score."
   ]
  },
  {
   "cell_type": "code",
   "execution_count": null,
   "metadata": {},
   "outputs": [],
   "source": [
    "print(\"Number of faces detected: {}\".format(len(detections)))"
   ]
  },
  {
   "cell_type": "code",
   "execution_count": null,
   "metadata": {},
   "outputs": [],
   "source": [
    "bounded_faces = img.copy()\n",
    "\n",
    "for i, d in enumerate(detections):\n",
    "    print(\"Detection {}:\\n \\tLeft: {} \\n\\tTop: {} \\n\\tRight: {} \\n\\tBottom: {} \\n\\tConfidence: {}\".format(\n",
    "            i, d.rect.left(), d.rect.top(), d.rect.right(), d.rect.bottom(), d.confidence))\n",
    "    # draw bounding box\n",
    "    x, y, h, w = face_utils.rect_to_bb(d.rect)\n",
    "    x, y, h, w = int(x*w_ratio), int(y*h_ratio), int(w*w_ratio), int(h*h_ratio)\n",
    "    print(\"{}, {}, {}, {}\".format(x,y,h,w))\n",
    "    cv2.rectangle(bounded_faces, pt1=(x,y), pt2=(h+x,w+y), color=(255,0,0), thickness=3 )\n",
    "    cv2.putText(bounded_faces, \"{:.2f}\".format(d.confidence*100), (x+10, y-10) ,cv2.FONT_HERSHEY_SIMPLEX, 3, color=(0,255,0), thickness=6)    "
   ]
  },
  {
   "cell_type": "code",
   "execution_count": null,
   "metadata": {},
   "outputs": [],
   "source": [
    "fig = plt.figure(figsize=(16,16))\n",
    "plt.imshow(bounded_faces)\n",
    "plt.show()"
   ]
  },
  {
   "cell_type": "code",
   "execution_count": null,
   "metadata": {},
   "outputs": [],
   "source": [
    "bounded_faces = img.copy()\n",
    "\n",
    "for i, d in enumerate(detections):\n",
    "    print(\"Detection {}:\\n \\tLeft: {} \\n\\tTop: {} \\n\\tRight: {} \\n\\tBottom: {} \\n\\tConfidence: {}\".format(\n",
    "            i, d.rect.left(), d.rect.top(), d.rect.right(), d.rect.bottom(), d.confidence))\n",
    "    \n",
    "    # get landmarks on bounded face\n",
    "    \n",
    "    print(img_copy.shape)\n",
    "    shape = predictor(img_copy, d.rect)\n",
    "    shape = face_utils.shape_to_np(shape)\n",
    "    \n",
    "    # draw bounding box\n",
    "    x, y, h, w = face_utils.rect_to_bb(d.rect)\n",
    "    x, y, h, w = int(x*w_ratio), int(y*h_ratio), int(w*w_ratio), int(h*h_ratio)\n",
    "    print(\"{}, {}, {}, {}\".format(x,y,h,w))\n",
    "    cv2.rectangle(bounded_faces, pt1=(x,y), pt2=(h+x,w+y), color=(255,0,0), thickness=3 )\n",
    "    cv2.putText(bounded_faces, \"{:.2f}\".format(d.confidence*100), (x+10, y-10) ,\n",
    "                cv2.FONT_HERSHEY_SIMPLEX, 3, color=(0,255,0), thickness=6)\n",
    "    \n",
    "    # iterate over all the landmarks and draw them\n",
    "    for l in shape:\n",
    "        cv2.circle(bounded_faces, center=(int(l[0]*h_ratio), int(l[1]*w_ratio)) ,\n",
    "                   radius=7, color=(255, 0, 0), thickness=-1)\n"
   ]
  },
  {
   "cell_type": "code",
   "execution_count": null,
   "metadata": {},
   "outputs": [],
   "source": [
    "\n",
    "fig = plt.figure(figsize=(16,16))\n",
    "plt.imshow(bounded_faces)\n",
    "plt.show()"
   ]
  },
  {
   "cell_type": "code",
   "execution_count": null,
   "metadata": {},
   "outputs": [],
   "source": []
  }
 ],
 "metadata": {
  "kernelspec": {
   "display_name": "Python 3",
   "language": "python",
   "name": "python3"
  },
  "language_info": {
   "codemirror_mode": {
    "name": "ipython",
    "version": 3
   },
   "file_extension": ".py",
   "mimetype": "text/x-python",
   "name": "python",
   "nbconvert_exporter": "python",
   "pygments_lexer": "ipython3",
   "version": "3.6.7"
  }
 },
 "nbformat": 4,
 "nbformat_minor": 2
}
